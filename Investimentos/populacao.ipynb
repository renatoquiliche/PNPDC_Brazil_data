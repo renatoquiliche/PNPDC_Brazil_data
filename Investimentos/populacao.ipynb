{
 "cells": [
  {
   "cell_type": "code",
   "execution_count": 10,
   "metadata": {},
   "outputs": [],
   "source": [
    "import pandas as pd"
   ]
  },
  {
   "cell_type": "code",
   "execution_count": 11,
   "metadata": {},
   "outputs": [
    {
     "name": "stderr",
     "output_type": "stream",
     "text": [
      "<>:1: SyntaxWarning: invalid escape sequence '\\I'\n",
      "<>:3: SyntaxWarning: invalid escape sequence '\\I'\n",
      "<>:4: SyntaxWarning: invalid escape sequence '\\I'\n",
      "<>:5: SyntaxWarning: invalid escape sequence '\\I'\n",
      "<>:1: SyntaxWarning: invalid escape sequence '\\I'\n",
      "<>:3: SyntaxWarning: invalid escape sequence '\\I'\n",
      "<>:4: SyntaxWarning: invalid escape sequence '\\I'\n",
      "<>:5: SyntaxWarning: invalid escape sequence '\\I'\n",
      "C:\\Users\\xx-re\\AppData\\Local\\Temp\\ipykernel_1516\\638284394.py:1: SyntaxWarning: invalid escape sequence '\\I'\n",
      "  g1 = pd.read_excel('...\\IRQ\\Dados_1.xlsx', sheet_name='Pop_Grupo1', nrows=1895, usecols=\"A:M\")\n",
      "C:\\Users\\xx-re\\AppData\\Local\\Temp\\ipykernel_1516\\638284394.py:3: SyntaxWarning: invalid escape sequence '\\I'\n",
      "  g2 = pd.read_excel('...\\IRQ\\Dados_1.xlsx', sheet_name='Pop_Grupo2', usecols=\"A:M\")\n",
      "C:\\Users\\xx-re\\AppData\\Local\\Temp\\ipykernel_1516\\638284394.py:4: SyntaxWarning: invalid escape sequence '\\I'\n",
      "  g3 = pd.read_excel('...\\IRQ\\Dados_1.xlsx', sheet_name='Pop_Grupo3', usecols=\"A:M\")\n",
      "C:\\Users\\xx-re\\AppData\\Local\\Temp\\ipykernel_1516\\638284394.py:5: SyntaxWarning: invalid escape sequence '\\I'\n",
      "  g4 = pd.read_excel('...\\IRQ\\Dados_1.xlsx', sheet_name='Pop_Grupo4', usecols=\"A:M\")\n",
      "C:\\Users\\xx-re\\AppData\\Local\\Temp\\ipykernel_1516\\638284394.py:1: SyntaxWarning: invalid escape sequence '\\I'\n",
      "  g1 = pd.read_excel('...\\IRQ\\Dados_1.xlsx', sheet_name='Pop_Grupo1', nrows=1895, usecols=\"A:M\")\n",
      "C:\\Users\\xx-re\\AppData\\Local\\Temp\\ipykernel_1516\\638284394.py:3: SyntaxWarning: invalid escape sequence '\\I'\n",
      "  g2 = pd.read_excel('...\\IRQ\\Dados_1.xlsx', sheet_name='Pop_Grupo2', usecols=\"A:M\")\n",
      "C:\\Users\\xx-re\\AppData\\Local\\Temp\\ipykernel_1516\\638284394.py:4: SyntaxWarning: invalid escape sequence '\\I'\n",
      "  g3 = pd.read_excel('...\\IRQ\\Dados_1.xlsx', sheet_name='Pop_Grupo3', usecols=\"A:M\")\n",
      "C:\\Users\\xx-re\\AppData\\Local\\Temp\\ipykernel_1516\\638284394.py:5: SyntaxWarning: invalid escape sequence '\\I'\n",
      "  g4 = pd.read_excel('...\\IRQ\\Dados_1.xlsx', sheet_name='Pop_Grupo4', usecols=\"A:M\")\n"
     ]
    },
    {
     "ename": "FileNotFoundError",
     "evalue": "[Errno 2] No such file or directory: '...\\\\IRQ\\\\Dados_1.xlsx'",
     "output_type": "error",
     "traceback": [
      "\u001b[1;31m---------------------------------------------------------------------------\u001b[0m",
      "\u001b[1;31mFileNotFoundError\u001b[0m                         Traceback (most recent call last)",
      "Cell \u001b[1;32mIn[11], line 1\u001b[0m\n\u001b[1;32m----> 1\u001b[0m g1 \u001b[38;5;241m=\u001b[39m \u001b[43mpd\u001b[49m\u001b[38;5;241;43m.\u001b[39;49m\u001b[43mread_excel\u001b[49m\u001b[43m(\u001b[49m\u001b[38;5;124;43m'\u001b[39;49m\u001b[38;5;124;43m...\u001b[39;49m\u001b[38;5;124;43m\\\u001b[39;49m\u001b[38;5;124;43mIRQ\u001b[39;49m\u001b[38;5;124;43m\\\u001b[39;49m\u001b[38;5;124;43mDados_1.xlsx\u001b[39;49m\u001b[38;5;124;43m'\u001b[39;49m\u001b[43m,\u001b[49m\u001b[43m \u001b[49m\u001b[43msheet_name\u001b[49m\u001b[38;5;241;43m=\u001b[39;49m\u001b[38;5;124;43m'\u001b[39;49m\u001b[38;5;124;43mPop_Grupo1\u001b[39;49m\u001b[38;5;124;43m'\u001b[39;49m\u001b[43m,\u001b[49m\u001b[43m \u001b[49m\u001b[43mnrows\u001b[49m\u001b[38;5;241;43m=\u001b[39;49m\u001b[38;5;241;43m1895\u001b[39;49m\u001b[43m,\u001b[49m\u001b[43m \u001b[49m\u001b[43musecols\u001b[49m\u001b[38;5;241;43m=\u001b[39;49m\u001b[38;5;124;43m\"\u001b[39;49m\u001b[38;5;124;43mA:M\u001b[39;49m\u001b[38;5;124;43m\"\u001b[39;49m\u001b[43m)\u001b[49m\n\u001b[0;32m      2\u001b[0m g1\n\u001b[0;32m      3\u001b[0m g2 \u001b[38;5;241m=\u001b[39m pd\u001b[38;5;241m.\u001b[39mread_excel(\u001b[38;5;124m'\u001b[39m\u001b[38;5;124m...\u001b[39m\u001b[38;5;124m\\\u001b[39m\u001b[38;5;124mIRQ\u001b[39m\u001b[38;5;124m\\\u001b[39m\u001b[38;5;124mDados_1.xlsx\u001b[39m\u001b[38;5;124m'\u001b[39m, sheet_name\u001b[38;5;241m=\u001b[39m\u001b[38;5;124m'\u001b[39m\u001b[38;5;124mPop_Grupo2\u001b[39m\u001b[38;5;124m'\u001b[39m, usecols\u001b[38;5;241m=\u001b[39m\u001b[38;5;124m\"\u001b[39m\u001b[38;5;124mA:M\u001b[39m\u001b[38;5;124m\"\u001b[39m)\n",
      "File \u001b[1;32mc:\\Users\\xx-re\\AppData\\Local\\Programs\\Python\\Python312\\Lib\\site-packages\\pandas\\io\\excel\\_base.py:504\u001b[0m, in \u001b[0;36mread_excel\u001b[1;34m(io, sheet_name, header, names, index_col, usecols, dtype, engine, converters, true_values, false_values, skiprows, nrows, na_values, keep_default_na, na_filter, verbose, parse_dates, date_parser, date_format, thousands, decimal, comment, skipfooter, storage_options, dtype_backend, engine_kwargs)\u001b[0m\n\u001b[0;32m    502\u001b[0m \u001b[38;5;28;01mif\u001b[39;00m \u001b[38;5;129;01mnot\u001b[39;00m \u001b[38;5;28misinstance\u001b[39m(io, ExcelFile):\n\u001b[0;32m    503\u001b[0m     should_close \u001b[38;5;241m=\u001b[39m \u001b[38;5;28;01mTrue\u001b[39;00m\n\u001b[1;32m--> 504\u001b[0m     io \u001b[38;5;241m=\u001b[39m \u001b[43mExcelFile\u001b[49m\u001b[43m(\u001b[49m\n\u001b[0;32m    505\u001b[0m \u001b[43m        \u001b[49m\u001b[43mio\u001b[49m\u001b[43m,\u001b[49m\n\u001b[0;32m    506\u001b[0m \u001b[43m        \u001b[49m\u001b[43mstorage_options\u001b[49m\u001b[38;5;241;43m=\u001b[39;49m\u001b[43mstorage_options\u001b[49m\u001b[43m,\u001b[49m\n\u001b[0;32m    507\u001b[0m \u001b[43m        \u001b[49m\u001b[43mengine\u001b[49m\u001b[38;5;241;43m=\u001b[39;49m\u001b[43mengine\u001b[49m\u001b[43m,\u001b[49m\n\u001b[0;32m    508\u001b[0m \u001b[43m        \u001b[49m\u001b[43mengine_kwargs\u001b[49m\u001b[38;5;241;43m=\u001b[39;49m\u001b[43mengine_kwargs\u001b[49m\u001b[43m,\u001b[49m\n\u001b[0;32m    509\u001b[0m \u001b[43m    \u001b[49m\u001b[43m)\u001b[49m\n\u001b[0;32m    510\u001b[0m \u001b[38;5;28;01melif\u001b[39;00m engine \u001b[38;5;129;01mand\u001b[39;00m engine \u001b[38;5;241m!=\u001b[39m io\u001b[38;5;241m.\u001b[39mengine:\n\u001b[0;32m    511\u001b[0m     \u001b[38;5;28;01mraise\u001b[39;00m \u001b[38;5;167;01mValueError\u001b[39;00m(\n\u001b[0;32m    512\u001b[0m         \u001b[38;5;124m\"\u001b[39m\u001b[38;5;124mEngine should not be specified when passing \u001b[39m\u001b[38;5;124m\"\u001b[39m\n\u001b[0;32m    513\u001b[0m         \u001b[38;5;124m\"\u001b[39m\u001b[38;5;124man ExcelFile - ExcelFile already has the engine set\u001b[39m\u001b[38;5;124m\"\u001b[39m\n\u001b[0;32m    514\u001b[0m     )\n",
      "File \u001b[1;32mc:\\Users\\xx-re\\AppData\\Local\\Programs\\Python\\Python312\\Lib\\site-packages\\pandas\\io\\excel\\_base.py:1563\u001b[0m, in \u001b[0;36mExcelFile.__init__\u001b[1;34m(self, path_or_buffer, engine, storage_options, engine_kwargs)\u001b[0m\n\u001b[0;32m   1561\u001b[0m     ext \u001b[38;5;241m=\u001b[39m \u001b[38;5;124m\"\u001b[39m\u001b[38;5;124mxls\u001b[39m\u001b[38;5;124m\"\u001b[39m\n\u001b[0;32m   1562\u001b[0m \u001b[38;5;28;01melse\u001b[39;00m:\n\u001b[1;32m-> 1563\u001b[0m     ext \u001b[38;5;241m=\u001b[39m \u001b[43minspect_excel_format\u001b[49m\u001b[43m(\u001b[49m\n\u001b[0;32m   1564\u001b[0m \u001b[43m        \u001b[49m\u001b[43mcontent_or_path\u001b[49m\u001b[38;5;241;43m=\u001b[39;49m\u001b[43mpath_or_buffer\u001b[49m\u001b[43m,\u001b[49m\u001b[43m \u001b[49m\u001b[43mstorage_options\u001b[49m\u001b[38;5;241;43m=\u001b[39;49m\u001b[43mstorage_options\u001b[49m\n\u001b[0;32m   1565\u001b[0m \u001b[43m    \u001b[49m\u001b[43m)\u001b[49m\n\u001b[0;32m   1566\u001b[0m     \u001b[38;5;28;01mif\u001b[39;00m ext \u001b[38;5;129;01mis\u001b[39;00m \u001b[38;5;28;01mNone\u001b[39;00m:\n\u001b[0;32m   1567\u001b[0m         \u001b[38;5;28;01mraise\u001b[39;00m \u001b[38;5;167;01mValueError\u001b[39;00m(\n\u001b[0;32m   1568\u001b[0m             \u001b[38;5;124m\"\u001b[39m\u001b[38;5;124mExcel file format cannot be determined, you must specify \u001b[39m\u001b[38;5;124m\"\u001b[39m\n\u001b[0;32m   1569\u001b[0m             \u001b[38;5;124m\"\u001b[39m\u001b[38;5;124man engine manually.\u001b[39m\u001b[38;5;124m\"\u001b[39m\n\u001b[0;32m   1570\u001b[0m         )\n",
      "File \u001b[1;32mc:\\Users\\xx-re\\AppData\\Local\\Programs\\Python\\Python312\\Lib\\site-packages\\pandas\\io\\excel\\_base.py:1419\u001b[0m, in \u001b[0;36minspect_excel_format\u001b[1;34m(content_or_path, storage_options)\u001b[0m\n\u001b[0;32m   1416\u001b[0m \u001b[38;5;28;01mif\u001b[39;00m \u001b[38;5;28misinstance\u001b[39m(content_or_path, \u001b[38;5;28mbytes\u001b[39m):\n\u001b[0;32m   1417\u001b[0m     content_or_path \u001b[38;5;241m=\u001b[39m BytesIO(content_or_path)\n\u001b[1;32m-> 1419\u001b[0m \u001b[38;5;28;01mwith\u001b[39;00m \u001b[43mget_handle\u001b[49m\u001b[43m(\u001b[49m\n\u001b[0;32m   1420\u001b[0m \u001b[43m    \u001b[49m\u001b[43mcontent_or_path\u001b[49m\u001b[43m,\u001b[49m\u001b[43m \u001b[49m\u001b[38;5;124;43m\"\u001b[39;49m\u001b[38;5;124;43mrb\u001b[39;49m\u001b[38;5;124;43m\"\u001b[39;49m\u001b[43m,\u001b[49m\u001b[43m \u001b[49m\u001b[43mstorage_options\u001b[49m\u001b[38;5;241;43m=\u001b[39;49m\u001b[43mstorage_options\u001b[49m\u001b[43m,\u001b[49m\u001b[43m \u001b[49m\u001b[43mis_text\u001b[49m\u001b[38;5;241;43m=\u001b[39;49m\u001b[38;5;28;43;01mFalse\u001b[39;49;00m\n\u001b[0;32m   1421\u001b[0m \u001b[43m\u001b[49m\u001b[43m)\u001b[49m \u001b[38;5;28;01mas\u001b[39;00m handle:\n\u001b[0;32m   1422\u001b[0m     stream \u001b[38;5;241m=\u001b[39m handle\u001b[38;5;241m.\u001b[39mhandle\n\u001b[0;32m   1423\u001b[0m     stream\u001b[38;5;241m.\u001b[39mseek(\u001b[38;5;241m0\u001b[39m)\n",
      "File \u001b[1;32mc:\\Users\\xx-re\\AppData\\Local\\Programs\\Python\\Python312\\Lib\\site-packages\\pandas\\io\\common.py:872\u001b[0m, in \u001b[0;36mget_handle\u001b[1;34m(path_or_buf, mode, encoding, compression, memory_map, is_text, errors, storage_options)\u001b[0m\n\u001b[0;32m    863\u001b[0m         handle \u001b[38;5;241m=\u001b[39m \u001b[38;5;28mopen\u001b[39m(\n\u001b[0;32m    864\u001b[0m             handle,\n\u001b[0;32m    865\u001b[0m             ioargs\u001b[38;5;241m.\u001b[39mmode,\n\u001b[1;32m   (...)\u001b[0m\n\u001b[0;32m    868\u001b[0m             newline\u001b[38;5;241m=\u001b[39m\u001b[38;5;124m\"\u001b[39m\u001b[38;5;124m\"\u001b[39m,\n\u001b[0;32m    869\u001b[0m         )\n\u001b[0;32m    870\u001b[0m     \u001b[38;5;28;01melse\u001b[39;00m:\n\u001b[0;32m    871\u001b[0m         \u001b[38;5;66;03m# Binary mode\u001b[39;00m\n\u001b[1;32m--> 872\u001b[0m         handle \u001b[38;5;241m=\u001b[39m \u001b[38;5;28;43mopen\u001b[39;49m\u001b[43m(\u001b[49m\u001b[43mhandle\u001b[49m\u001b[43m,\u001b[49m\u001b[43m \u001b[49m\u001b[43mioargs\u001b[49m\u001b[38;5;241;43m.\u001b[39;49m\u001b[43mmode\u001b[49m\u001b[43m)\u001b[49m\n\u001b[0;32m    873\u001b[0m     handles\u001b[38;5;241m.\u001b[39mappend(handle)\n\u001b[0;32m    875\u001b[0m \u001b[38;5;66;03m# Convert BytesIO or file objects passed with an encoding\u001b[39;00m\n",
      "\u001b[1;31mFileNotFoundError\u001b[0m: [Errno 2] No such file or directory: '...\\\\IRQ\\\\Dados_1.xlsx'"
     ]
    }
   ],
   "source": [
    "g1 = pd.read_excel('...\\IRQ\\Dados_1.xlsx', sheet_name='Pop_Grupo1', nrows=1895, usecols=\"A:M\")\n",
    "g1\n",
    "g2 = pd.read_excel('...\\IRQ\\Dados_1.xlsx', sheet_name='Pop_Grupo2', usecols=\"A:M\")\n",
    "g3 = pd.read_excel('...\\IRQ\\Dados_1.xlsx', sheet_name='Pop_Grupo3', usecols=\"A:M\")\n",
    "g4 = pd.read_excel('...\\IRQ\\Dados_1.xlsx', sheet_name='Pop_Grupo4', usecols=\"A:M\")\n",
    "g4"
   ]
  },
  {
   "cell_type": "code",
   "execution_count": null,
   "metadata": {},
   "outputs": [],
   "source": [
    "total_pop = pd.concat([g1,g2,g3,g4]).groupby(['CD_MUN', 'NM_MUN']).sum()"
   ]
  },
  {
   "cell_type": "code",
   "execution_count": null,
   "metadata": {},
   "outputs": [],
   "source": [
    "d1_g1 = pd.read_excel('...\\Outputs\\Erosão.xlsx', sheet_name='grupo 1')['CD_MUN']\n",
    "d1_g2 = pd.read_excel('...\\Outputs\\Erosão.xlsx', sheet_name='grupo 2')['CD_MUN']\n",
    "d1_g3 = pd.read_excel('...\\Outputs\\Erosão.xlsx', sheet_name='grupo 3')['CD_MUN']\n",
    "d1_g4 = pd.read_excel('...\\Outputs\\Erosão.xlsx', sheet_name='grupo 4')['CD_MUN']\n",
    "\n",
    "#d1 = pd.concat([cd_g1, cd_g2, cd_g3, cd_g4])"
   ]
  },
  {
   "cell_type": "code",
   "execution_count": null,
   "metadata": {},
   "outputs": [],
   "source": [
    "d2_g1 = pd.read_excel('...\\Outputs\\incendiosforest_secestiagem.xlsx', sheet_name='grupo 1')['CD_MUN']\n",
    "d2_g2 = pd.read_excel('...\\Outputs\\incendiosforest_secestiagem.xlsx', sheet_name='grupo 2')['CD_MUN']\n",
    "d2_g3 = pd.read_excel('...\\Outputs\\incendiosforest_secestiagem.xlsx', sheet_name='grupo 3')['CD_MUN']\n",
    "d2_g4 = pd.read_excel('...\\Outputs\\incendiosforest_secestiagem.xlsx', sheet_name='grupo 4')['CD_MUN']\n",
    "\n",
    "#d2 = pd.concat([cd_g1, cd_g2, cd_g3, cd_g4])"
   ]
  },
  {
   "cell_type": "code",
   "execution_count": null,
   "metadata": {},
   "outputs": [],
   "source": [
    "d3_g1 = pd.read_excel('...\\Outputs\\movimentos_de_masa.xlsx', sheet_name='grupo 1')['CD_MUN']\n",
    "d3_g2 = pd.read_excel('...\\Outputs\\movimentos_de_masa.xlsx', sheet_name='grupo 2')['CD_MUN']\n",
    "d3_g3 = pd.read_excel('...\\Outputs\\movimentos_de_masa.xlsx', sheet_name='grupo 3')['CD_MUN']\n",
    "d3_g4 = pd.read_excel('...\\Outputs\\movimentos_de_masa.xlsx', sheet_name='grupo 4')['CD_MUN']\n",
    "\n",
    "#d3 = pd.concat([cd_g1, cd_g2, cd_g3, cd_g4])"
   ]
  },
  {
   "cell_type": "code",
   "execution_count": null,
   "metadata": {},
   "outputs": [],
   "source": [
    "d4_g1 = pd.read_excel('Outputs\\ondas_de_frio.xlsx', sheet_name='grupo 1')['CD_MUN']\n",
    "\n",
    "d4_g3 = pd.read_excel('Outputs\\ondas_de_frio.xlsx', sheet_name='grupo 3')['CD_MUN']\n",
    "\n",
    "\n",
    "#d4 = pd.concat([cd_g1, cd_g3])"
   ]
  },
  {
   "cell_type": "code",
   "execution_count": null,
   "metadata": {},
   "outputs": [],
   "source": [
    "d5_g1 = pd.read_excel('AlagEnxInTorVen.xlsx', sheet_name='grupo 1')['CD_MUN']\n",
    "d5_g2 = pd.read_excel('AlagEnxInTorVen.xlsx', sheet_name='grupo 2')['CD_MUN']\n",
    "d5_g3 = pd.read_excel('AlagEnxInTorVen.xlsx', sheet_name='grupo 3')['CD_MUN']\n",
    "d5_g4 = pd.read_excel('AlagEnxInTorVen.xlsx', sheet_name='grupo 4')['CD_MUN']"
   ]
  },
  {
   "cell_type": "code",
   "execution_count": null,
   "metadata": {},
   "outputs": [],
   "source": [
    "#d1 erosao\n",
    "#d2 incendiosforest_secestiagem\n",
    "#d3 movimientos de masa\n",
    "#d4 ondas de frio\n",
    "\n",
    "# Sumatorio de d1 para grupo 1\n",
    "g1d1 = total_pop.loc[d1_g1].sum()\n",
    "g2d1 = total_pop.loc[d1_g2].sum()\n",
    "g3d1 = total_pop.loc[d1_g3].sum()\n",
    "g4d1 = total_pop.loc[d1_g4].sum()\n",
    "\n",
    "# grupo 1, 2, 3, 4 para cada desastre erossao\n",
    "d1 = pd.concat([g1d1,g2d1,g3d1,g4d1], axis=1)"
   ]
  },
  {
   "cell_type": "code",
   "execution_count": null,
   "metadata": {},
   "outputs": [],
   "source": [
    "# Sumatorio de d2 para grupo 1\n",
    "g1d2 = total_pop.loc[d2_g1].sum()\n",
    "g2d2 = total_pop.loc[d2_g2].sum()\n",
    "g3d2 = total_pop.loc[d2_g3].sum()\n",
    "g4d2 = total_pop.loc[d2_g4].sum()\n",
    "\n",
    "# grupo 1, 2, 3, 4 para cada desastre erossao\n",
    "d2 = pd.concat([g1d2,g2d2,g3d2,g4d2], axis=1)"
   ]
  },
  {
   "cell_type": "code",
   "execution_count": null,
   "metadata": {},
   "outputs": [],
   "source": [
    "# Sumatorio de d3 para grupo 1\n",
    "g1d3 = total_pop.loc[d3_g1].sum()\n",
    "g2d3 = total_pop.loc[d3_g2].sum()\n",
    "g3d3 = total_pop.loc[d3_g3].sum()\n",
    "g4d3 = total_pop.loc[d3_g4].sum()\n",
    "\n",
    "# grupo 1, 2, 3, 4 para cada desastre erossao\n",
    "d3 = pd.concat([g1d3,g2d3,g3d3,g4d3], axis=1)"
   ]
  },
  {
   "cell_type": "code",
   "execution_count": null,
   "metadata": {},
   "outputs": [
    {
     "data": {
      "text/html": [
       "<div>\n",
       "<style scoped>\n",
       "    .dataframe tbody tr th:only-of-type {\n",
       "        vertical-align: middle;\n",
       "    }\n",
       "\n",
       "    .dataframe tbody tr th {\n",
       "        vertical-align: top;\n",
       "    }\n",
       "\n",
       "    .dataframe thead th {\n",
       "        text-align: right;\n",
       "    }\n",
       "</style>\n",
       "<table border=\"1\" class=\"dataframe\">\n",
       "  <thead>\n",
       "    <tr style=\"text-align: right;\">\n",
       "      <th></th>\n",
       "      <th>0</th>\n",
       "      <th>1</th>\n",
       "    </tr>\n",
       "  </thead>\n",
       "  <tbody>\n",
       "    <tr>\n",
       "      <th>Pop_2012</th>\n",
       "      <td>170553587.0</td>\n",
       "      <td>23279838.0</td>\n",
       "    </tr>\n",
       "    <tr>\n",
       "      <th>Pop_2013</th>\n",
       "      <td>176851134.0</td>\n",
       "      <td>24063242.0</td>\n",
       "    </tr>\n",
       "    <tr>\n",
       "      <th>Pop_2014</th>\n",
       "      <td>178404966.0</td>\n",
       "      <td>24242772.0</td>\n",
       "    </tr>\n",
       "    <tr>\n",
       "      <th>Pop_2015</th>\n",
       "      <td>179905272.0</td>\n",
       "      <td>24421570.0</td>\n",
       "    </tr>\n",
       "    <tr>\n",
       "      <th>Pop_2016</th>\n",
       "      <td>181370083.0</td>\n",
       "      <td>24585867.0</td>\n",
       "    </tr>\n",
       "    <tr>\n",
       "      <th>Pop_2017</th>\n",
       "      <td>182787953.0</td>\n",
       "      <td>24745275.0</td>\n",
       "    </tr>\n",
       "    <tr>\n",
       "      <th>Pop_2018</th>\n",
       "      <td>183639103.0</td>\n",
       "      <td>24729923.0</td>\n",
       "    </tr>\n",
       "    <tr>\n",
       "      <th>Pop_2019</th>\n",
       "      <td>185130313.0</td>\n",
       "      <td>24888996.0</td>\n",
       "    </tr>\n",
       "    <tr>\n",
       "      <th>Pop_2020</th>\n",
       "      <td>186573530.0</td>\n",
       "      <td>25052445.0</td>\n",
       "    </tr>\n",
       "    <tr>\n",
       "      <th>Pop_2021</th>\n",
       "      <td>187971953.0</td>\n",
       "      <td>25214111.0</td>\n",
       "    </tr>\n",
       "    <tr>\n",
       "      <th>Pop_2022</th>\n",
       "      <td>177778954.0</td>\n",
       "      <td>25237555.0</td>\n",
       "    </tr>\n",
       "  </tbody>\n",
       "</table>\n",
       "</div>"
      ],
      "text/plain": [
       "                    0           1\n",
       "Pop_2012  170553587.0  23279838.0\n",
       "Pop_2013  176851134.0  24063242.0\n",
       "Pop_2014  178404966.0  24242772.0\n",
       "Pop_2015  179905272.0  24421570.0\n",
       "Pop_2016  181370083.0  24585867.0\n",
       "Pop_2017  182787953.0  24745275.0\n",
       "Pop_2018  183639103.0  24729923.0\n",
       "Pop_2019  185130313.0  24888996.0\n",
       "Pop_2020  186573530.0  25052445.0\n",
       "Pop_2021  187971953.0  25214111.0\n",
       "Pop_2022  177778954.0  25237555.0"
      ]
     },
     "execution_count": 11,
     "metadata": {},
     "output_type": "execute_result"
    }
   ],
   "source": [
    "# Sumatorio de d4 para grupo 1\n",
    "g1d4 = total_pop.loc[d4_g1].sum()\n",
    "#g2d4 = total_pop.loc[d4_g2].sum()\n",
    "g3d4 = total_pop.loc[d4_g3].sum()\n",
    "#g4d4 = total_pop.loc[d4_g4].sum()\n",
    "\n",
    "# grupo 1, 2, 3, 4 para cada desastre erossao\n",
    "pd.concat([g1d4,g3d4], axis=1)"
   ]
  },
  {
   "cell_type": "code",
   "execution_count": null,
   "metadata": {},
   "outputs": [],
   "source": []
  },
  {
   "cell_type": "markdown",
   "metadata": {},
   "source": [
    "# investimentos"
   ]
  },
  {
   "cell_type": "code",
   "execution_count": null,
   "metadata": {},
   "outputs": [],
   "source": [
    "import pandas as pd\n",
    "inv = pd.read_excel('final_data_investimentos (3).xlsx')"
   ]
  },
  {
   "cell_type": "code",
   "execution_count": null,
   "metadata": {},
   "outputs": [],
   "source": [
    "inv['Eixo de Atuação'].replace('Outras ações ', 'Prevenção', inplace=True)"
   ]
  },
  {
   "cell_type": "code",
   "execution_count": null,
   "metadata": {},
   "outputs": [],
   "source": [
    "def process_data(inv, d1_g1):\n",
    "    g1d1_i = inv.loc[inv['Cod IBGE'].isin(d1_g1)].melt(id_vars=['Ano', 'Cod IBGE', 'Eixo de Atuação'], value_vars=['Estrutural', 'Não estrutural'], var_name='Tipo')\n",
    "    g1d1_i = pd.DataFrame(g1d1_i.groupby(['Ano', 'Eixo de Atuação', 'Tipo'])['value'].sum()).pivot_table(index=['Ano'], columns=['Eixo de Atuação', 'Tipo'])\n",
    "    return g1d1_i\n"
   ]
  },
  {
   "cell_type": "code",
   "execution_count": null,
   "metadata": {},
   "outputs": [
    {
     "ename": "NameError",
     "evalue": "name 'd1_g2' is not defined",
     "output_type": "error",
     "traceback": [
      "\u001b[1;31m---------------------------------------------------------------------------\u001b[0m",
      "\u001b[1;31mNameError\u001b[0m                                 Traceback (most recent call last)",
      "Cell \u001b[1;32mIn[5], line 1\u001b[0m\n\u001b[1;32m----> 1\u001b[0m process_data(inv,\u001b[43md1_g2\u001b[49m)\n",
      "\u001b[1;31mNameError\u001b[0m: name 'd1_g2' is not defined"
     ]
    }
   ],
   "source": [
    "process_data(inv,d1_g2)"
   ]
  },
  {
   "cell_type": "code",
   "execution_count": null,
   "metadata": {},
   "outputs": [],
   "source": [
    "#d1 erosao\n",
    "#d2 incendiosforest_secestiagem\n",
    "#d3 movimientos de masa\n",
    "#d4 ondas de frio\n",
    "\n",
    "# Sumatorio de d1 para grupo 1\n",
    "g1d1_i = process_data(inv,d1_g1)\n",
    "g2d1_i = process_data(inv,d1_g2)\n",
    "g3d1_i = process_data(inv,d1_g3)\n",
    "g4d1_i = process_data(inv,d1_g4)\n",
    "\n",
    "# disaster 2\n",
    "g1d2_i = process_data(inv,d2_g1)\n",
    "g2d2_i = process_data(inv,d2_g2)\n",
    "g3d2_i = process_data(inv,d2_g3)\n",
    "g4d2_i = process_data(inv,d2_g4)\n",
    "\n",
    "# disaster 3\n",
    "g1d3_i = process_data(inv,d3_g1)\n",
    "g2d3_i = process_data(inv,d3_g2)\n",
    "g3d3_i = process_data(inv,d3_g3)\n",
    "g4d3_i = process_data(inv,d3_g4)\n",
    "\n",
    "# disaster 4\n",
    "g1d4_i = process_data(inv,d4_g1)\n",
    "#g2d4_i = process_data(inv,d4_g2)\n",
    "g3d4_i = process_data(inv,d4_g3)\n",
    "#g4d4_i = process_data(inv,d4_g4)\n",
    "\n"
   ]
  },
  {
   "cell_type": "code",
   "execution_count": null,
   "metadata": {},
   "outputs": [],
   "source": [
    "# Create a Pandas Excel writer using XlsxWriter as the engine\n",
    "writer = pd.ExcelWriter('investimentos.xlsx', engine='xlsxwriter')\n",
    "\n",
    "# Export each DataFrame to a separate sheet\n",
    "g1d1_i.to_excel(writer, sheet_name='erosao_g1')\n",
    "g2d1_i.to_excel(writer, sheet_name='erosao_g2')\n",
    "g3d1_i.to_excel(writer, sheet_name='erosao_g3')\n",
    "g4d1_i.to_excel(writer, sheet_name='erosao_g4')\n",
    "# Repeat for df3 to df14\n",
    "\n",
    "# disaster 2\n",
    "g1d2_i.to_excel(writer, sheet_name='incfort_sec_g1')\n",
    "g2d2_i.to_excel(writer, sheet_name='incfort_sec_g2')\n",
    "g3d2_i.to_excel(writer, sheet_name='incfort_sec_g3')\n",
    "g4d2_i.to_excel(writer, sheet_name='incfort_sec_g4')\n",
    "\n",
    "# d3\n",
    "g1d3_i.to_excel(writer, sheet_name='mm_g1')\n",
    "g2d3_i.to_excel(writer, sheet_name='mm_g2')\n",
    "g3d3_i.to_excel(writer, sheet_name='mm_g3')\n",
    "g4d3_i.to_excel(writer, sheet_name='mm_g4')\n",
    "\n",
    "# d4\n",
    "g1d4_i.to_excel(writer, sheet_name='ondfr_g1')\n",
    "#g2d4_i.to_excel(writer, sheet_name='ondfr_g2')\n",
    "g3d4_i.to_excel(writer, sheet_name='ondfr_g3')\n",
    "#g4d4_i.to_excel(writer, sheet_name='ondfr_g4')\n",
    "\n",
    "\n",
    "# Save the Excel file\n",
    "writer.save()"
   ]
  },
  {
   "cell_type": "code",
   "execution_count": null,
   "metadata": {},
   "outputs": [],
   "source": []
  }
 ],
 "metadata": {
  "kernelspec": {
   "display_name": "Python 3",
   "language": "python",
   "name": "python3"
  },
  "language_info": {
   "codemirror_mode": {
    "name": "ipython",
    "version": 3
   },
   "file_extension": ".py",
   "mimetype": "text/x-python",
   "name": "python",
   "nbconvert_exporter": "python",
   "pygments_lexer": "ipython3",
   "version": "3.12.1"
  }
 },
 "nbformat": 4,
 "nbformat_minor": 2
}
